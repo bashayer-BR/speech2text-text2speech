{
  "nbformat": 4,
  "nbformat_minor": 0,
  "metadata": {
    "colab": {
      "name": "text2speech.ipynb",
      "provenance": [],
      "collapsed_sections": []
    },
    "kernelspec": {
      "display_name": "Python 3",
      "name": "python3"
    },
    "language_info": {
      "name": "python"
    }
  },
  "cells": [
    {
      "cell_type": "code",
      "metadata": {
        "id": "Ikcq3wWzSobd"
      },
      "source": [
        "#install Dependencies "
      ],
      "execution_count": null,
      "outputs": []
    },
    {
      "cell_type": "code",
      "metadata": {
        "colab": {
          "base_uri": "https://localhost:8080/"
        },
        "id": "3At7nZO5TlGq",
        "outputId": "9b07c537-8650-4b8e-b38f-26ca3d5f3a7a"
      },
      "source": [
        "pip install ibm_watson"
      ],
      "execution_count": 1,
      "outputs": [
        {
          "output_type": "stream",
          "text": [
            "Collecting ibm_watson\n",
            "\u001b[?25l  Downloading https://files.pythonhosted.org/packages/3f/2a/d91c8a5012d9b8973ebfcfe234b539dffd263b2fc729c92ff214bcc999a9/ibm-watson-5.2.2.tar.gz (407kB)\n",
            "\u001b[K     |████████████████████████████████| 409kB 8.1MB/s \n",
            "\u001b[?25h  Installing build dependencies ... \u001b[?25l\u001b[?25hdone\n",
            "  Getting requirements to build wheel ... \u001b[?25l\u001b[?25hdone\n",
            "    Preparing wheel metadata ... \u001b[?25l\u001b[?25hdone\n",
            "Collecting ibm-cloud-sdk-core==3.*,>=3.3.6\n",
            "\u001b[?25l  Downloading https://files.pythonhosted.org/packages/8e/08/7aabcef676b8542b68dde4155292cc4738c6fe266c88511680a5839a2ae0/ibm-cloud-sdk-core-3.10.1.tar.gz (40kB)\n",
            "\u001b[K     |████████████████████████████████| 40kB 5.2MB/s \n",
            "\u001b[?25hCollecting websocket-client==1.1.0\n",
            "\u001b[?25l  Downloading https://files.pythonhosted.org/packages/ca/5f/3c211d168b2e9f9342cfb53bcfc26aab0eac63b998015e7af7bcae66119d/websocket_client-1.1.0-py2.py3-none-any.whl (68kB)\n",
            "\u001b[K     |████████████████████████████████| 71kB 7.6MB/s \n",
            "\u001b[?25hRequirement already satisfied: python-dateutil>=2.5.3 in /usr/local/lib/python3.7/dist-packages (from ibm_watson) (2.8.1)\n",
            "Requirement already satisfied: requests<3.0,>=2.0 in /usr/local/lib/python3.7/dist-packages (from ibm_watson) (2.23.0)\n",
            "Collecting PyJWT<3.0.0,>=2.0.1\n",
            "  Downloading https://files.pythonhosted.org/packages/3f/32/d5d3cab27fee7f6b22d7cd7507547ae45d52e26030fa77d1f83d0526c6e5/PyJWT-2.1.0-py3-none-any.whl\n",
            "Requirement already satisfied: six>=1.5 in /usr/local/lib/python3.7/dist-packages (from python-dateutil>=2.5.3->ibm_watson) (1.15.0)\n",
            "Requirement already satisfied: chardet<4,>=3.0.2 in /usr/local/lib/python3.7/dist-packages (from requests<3.0,>=2.0->ibm_watson) (3.0.4)\n",
            "Requirement already satisfied: idna<3,>=2.5 in /usr/local/lib/python3.7/dist-packages (from requests<3.0,>=2.0->ibm_watson) (2.10)\n",
            "Requirement already satisfied: urllib3!=1.25.0,!=1.25.1,<1.26,>=1.21.1 in /usr/local/lib/python3.7/dist-packages (from requests<3.0,>=2.0->ibm_watson) (1.24.3)\n",
            "Requirement already satisfied: certifi>=2017.4.17 in /usr/local/lib/python3.7/dist-packages (from requests<3.0,>=2.0->ibm_watson) (2021.5.30)\n",
            "Building wheels for collected packages: ibm-watson\n",
            "  Building wheel for ibm-watson (PEP 517) ... \u001b[?25l\u001b[?25hdone\n",
            "  Created wheel for ibm-watson: filename=ibm_watson-5.2.2-cp37-none-any.whl size=403389 sha256=b7f5e6867d021aa56055c4284d09d57cc20778859ccc6ed01b64336ce9033c12\n",
            "  Stored in directory: /root/.cache/pip/wheels/cc/48/97/e75b6c52cadfde48732a1047e78b3203845201c3f07ee432ca\n",
            "Successfully built ibm-watson\n",
            "Building wheels for collected packages: ibm-cloud-sdk-core\n",
            "  Building wheel for ibm-cloud-sdk-core (setup.py) ... \u001b[?25l\u001b[?25hdone\n",
            "  Created wheel for ibm-cloud-sdk-core: filename=ibm_cloud_sdk_core-3.10.1-cp37-none-any.whl size=61774 sha256=11f2a7d6ce2d4632c4f13de5f852bf2b86217107f62df3a908216afbe2fd50ce\n",
            "  Stored in directory: /root/.cache/pip/wheels/9b/48/e3/77af44b5b058761be504874089506f2264c8f6e9837daf376d\n",
            "Successfully built ibm-cloud-sdk-core\n",
            "Installing collected packages: PyJWT, ibm-cloud-sdk-core, websocket-client, ibm-watson\n",
            "Successfully installed PyJWT-2.1.0 ibm-cloud-sdk-core-3.10.1 ibm-watson-5.2.2 websocket-client-1.1.0\n"
          ],
          "name": "stdout"
        }
      ]
    },
    {
      "cell_type": "code",
      "metadata": {
        "id": "PlYqk1udSy01"
      },
      "source": [
        "#Authenticate\n"
      ],
      "execution_count": null,
      "outputs": []
    },
    {
      "cell_type": "code",
      "metadata": {
        "id": "aN-hwhISUIHD"
      },
      "source": [
        "url='https://api.us-south.text-to-speech.watson.cloud.ibm.com/instances/a09b0f39-df6b-4cc7-9528-168050a0dc7e'\n",
        "apiKey='3ra-Z6F4woRap5llRU_oAfiWVv6oauNaHlA9kD43pGrt'"
      ],
      "execution_count": 2,
      "outputs": []
    },
    {
      "cell_type": "code",
      "metadata": {
        "id": "o2ckmfF9Ux37"
      },
      "source": [
        "from ibm_watson import TextToSpeechV1"
      ],
      "execution_count": 3,
      "outputs": []
    },
    {
      "cell_type": "code",
      "metadata": {
        "id": "AEFpM1OKVCsA"
      },
      "source": [
        "from ibm_cloud_sdk_core.authenticators import IAMAuthenticator"
      ],
      "execution_count": 4,
      "outputs": []
    },
    {
      "cell_type": "code",
      "metadata": {
        "id": "izoy9x-xVUj-"
      },
      "source": [
        "#Setup service\n",
        "authenticator = IAMAuthenticator(apiKey)\n",
        "#New TTS service \n",
        "tts =TextToSpeechV1(authenticator=authenticator)\n",
        "#Set service url\n",
        "tts.set_service_url(url)"
      ],
      "execution_count": 5,
      "outputs": []
    },
    {
      "cell_type": "code",
      "metadata": {
        "id": "hoql_1GmTBZz"
      },
      "source": [
        "#Convert a String"
      ],
      "execution_count": null,
      "outputs": []
    },
    {
      "cell_type": "code",
      "metadata": {
        "id": "AyP8OMxJZP4t"
      },
      "source": [
        "with open ('./speech1.mp3','wb') as audio_file:\n",
        "  res = tts.synthesize('welcome to the closing party!', accept='audio/mp3', voice='en-US_AllisonV3Voice').get_result()\n",
        "  audio_file.write(res.content)"
      ],
      "execution_count": 7,
      "outputs": []
    }
  ]
}